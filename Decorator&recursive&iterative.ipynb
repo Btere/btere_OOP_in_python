{
  "nbformat": 4,
  "nbformat_minor": 0,
  "metadata": {
    "colab": {
      "provenance": [],
      "authorship_tag": "ABX9TyMq0T1BcRRHvlM7sKrBmmAe",
      "include_colab_link": true
    },
    "kernelspec": {
      "name": "python3",
      "display_name": "Python 3"
    },
    "language_info": {
      "name": "python"
    }
  },
  "cells": [
    {
      "cell_type": "markdown",
      "metadata": {
        "id": "view-in-github",
        "colab_type": "text"
      },
      "source": [
        "<a href=\"https://colab.research.google.com/github/Btere/btere_OOP_in_python/blob/main/Decorator%26recursive%26iterative.ipynb\" target=\"_parent\"><img src=\"https://colab.research.google.com/assets/colab-badge.svg\" alt=\"Open In Colab\"/></a>"
      ]
    },
    {
      "cell_type": "markdown",
      "source": [
        "In this code, we would be understanding how a decorator works, and the nuances around it, so code with me!\n",
        "\n",
        "Decorator are functions that change the behaviour of another function. We can say they extend the behaviour of a function, depending on what the decorator does. A decorator is a function that takes another function as an argument, adds some functionality to it (often by wrapping it in another function), and returns the modified function. \\\\\n",
        "\n",
        "In Python, functions are first-class objects, meaning they can be passed around as arguments, returned from other functions, and assigned to variables. \\\\\n",
        "\n",
        "\n",
        "Syntax: Decorators are typically applied to functions or methods using the\n",
        "\n",
        "@decorator_name syntax.\n",
        "\n",
        "### Common Applications of Decorators:\n",
        "1. **Logging**: Automatically logging function calls and results.\n",
        "2. **Timing**: Measuring and logging the time taken by functions to execute.\n",
        "3. **Access Control**: Checking user permissions before allowing access to certain functions (common in web applications).\n",
        "4. **Memoization/Caching**: Storing the results of expensive function calls and reusing them when the same inputs occur again.\n",
        "5. **Validation**: Checking input arguments before a function runs.\n",
        "6. **Resource Management**: Ensuring resources (like file handles, database connections) are properly managed (opened and closed) around a function's execution.\n",
        "7. **Pre/Post Processing**: Adding some operations before and/or after the main logic of a function.\n",
        "8. **Retries**: Automatically retrying a function if it fails due to transient errors.\n",
        "\n",
        "### When to Use a Decorator:\n",
        "Decorators are useful when you have a common piece of functionality that you want to apply across multiple functions without duplicating code. Instead of adding the same code to many functions, you can write it once in a decorator and apply it wherever needed.\n",
        "\n",
        "\n",
        "To further get the understanding of decorator, we shall use a basic problem that people can relate to.\n",
        "\n",
        "We have two functions. func1 is the decorator, func2 is a function that calulate how long it takes to get a job in Europe, and the saving required."
      ],
      "metadata": {
        "id": "GGYUId_x9blI"
      }
    },
    {
      "cell_type": "code",
      "source": [
        " #Basic Definition of a Decorator\n",
        "\n",
        "#@my_decorator\n",
        "def my_function():\n",
        "    pass"
      ],
      "metadata": {
        "id": "-08xQ9RYHv21"
      },
      "execution_count": null,
      "outputs": []
    },
    {
      "cell_type": "markdown",
      "source": [
        "How to Write a Simple Decorator \\\\\n",
        "\n",
        "\n",
        "You should know how to write a basic decorator that adds functionality to an existing function.\n",
        "\n",
        " Defining func2, which will be the function that calculates the savings one needs to have. We'll assume that this function calculates the amount of savings required based on monthly expenses and the number of months it typically takes to find a new job after being fired (6-7 months in Europe)."
      ],
      "metadata": {
        "id": "3ptAU3pYMgQS"
      }
    },
    {
      "cell_type": "code",
      "source": [
        "#Example 1- func2\n",
        "def calculate_savings(monthly_expenses, months_to_find_job):\n",
        "    return monthly_expenses * months_to_find_job\n",
        "\n"
      ],
      "metadata": {
        "id": "LnuuUhYc9nir"
      },
      "execution_count": null,
      "outputs": []
    },
    {
      "cell_type": "markdown",
      "source": [
        "Decorators with Arguments \\\\\n",
        "\n",
        "Now, let's define fun1, which will be our decorator. The purpose of this decorator will be to add extra functionality to func2. Specifically, fun1 will compute: \\\\\n",
        "\n",
        "1. Time, how long func2 takes to execute.\n",
        "2. Log the calculation process.\n",
        "\n",
        "func passed as parameters to the function, is just the name of the parameter in func1 that holds a reference to func2.\n",
        "When you do func(*args, **kwargs), you are calling func2 with whatever arguments were passed to wrapper. \\\\\n",
        "\n",
        "func1 has decorated func2, implies that when you call func2, you’re actually calling the wrapper function inside func1."
      ],
      "metadata": {
        "id": "uSZuyn-bM-Nw"
      }
    },
    {
      "cell_type": "code",
      "source": [
        "#func1\n",
        "import time\n",
        "\n",
        "def time_and_log_decorator(func):\n",
        "    def wrapper(*args, **kwargs):\n",
        "        start_time = time.time()\n",
        "\n",
        "        # Call the original function (`func2`) with its arguments\n",
        "        result = func(*args, **kwargs)\n",
        "\n",
        "        end_time = time.time()\n",
        "        elapsed_time = end_time - start_time\n",
        "\n",
        "        # Log the details\n",
        "        print(f\"Function '{func.__name__}' called with args: {args}, kwargs: {kwargs}\")\n",
        "        print(f\"Execution time: {elapsed_time:.4f} seconds\")\n",
        "        print(f\"Result: {result}\")\n",
        "\n",
        "        return result\n",
        "    return wrapper"
      ],
      "metadata": {
        "id": "7-qCd7waM8GZ"
      },
      "execution_count": null,
      "outputs": []
    },
    {
      "cell_type": "markdown",
      "source": [
        "Now, we'll apply the fun1 decorator to func2 using the @ syntax:"
      ],
      "metadata": {
        "id": "h_reMBbEPjRD"
      }
    },
    {
      "cell_type": "code",
      "source": [
        "@time_and_log_decorator\n",
        "def calculate_savings(monthly_expenses, months_to_find_job):\n",
        "    return monthly_expenses * months_to_find_job"
      ],
      "metadata": {
        "id": "VS8HyCc_Pf_G"
      },
      "execution_count": null,
      "outputs": []
    },
    {
      "cell_type": "code",
      "source": [
        "#which is equivalent to the above\n",
        "calculate_savings = time_and_log_decorator(calculate_savings)\n"
      ],
      "metadata": {
        "id": "iCK6S18yJdIP"
      },
      "execution_count": null,
      "outputs": []
    },
    {
      "cell_type": "code",
      "source": [
        "savings_needed = calculate_savings(2000, 6)\n"
      ],
      "metadata": {
        "id": "WxfX9ekyJlbC"
      },
      "execution_count": null,
      "outputs": []
    },
    {
      "cell_type": "markdown",
      "source": [
        "What Happens Under the Hood?\n",
        "\n",
        "\n",
        "When you call calculate_savings(2000, 6), the following steps occur:\n",
        "The wrapper function inside fun1 is invoked instead of the original calculate_savings function.\n",
        "The wrapper function logs the start time.\n",
        "It then calls the original calculate_savings function (func2) with the provided arguments (2000 and 6).\n",
        "The result of func2 (which is 2000 * 6 = 12000) is calculated and returned.\n",
        "The wrapper function logs the execution time, function name, arguments, and result.\n",
        "The result (12000) is returned to the caller."
      ],
      "metadata": {
        "id": "Et-pDB5VPxL_"
      }
    },
    {
      "cell_type": "code",
      "source": [
        "#Another example\n",
        "\n",
        "def simple_decorator(func):\n",
        "    def wrapper():\n",
        "        print(\"Before the function call\")\n",
        "        func()\n",
        "        print(\"After the function call\")\n",
        "    return wrapper\n",
        "\n",
        "@simple_decorator\n",
        "def say_hello():\n",
        "    print(\"Hello!\")\n",
        "\n",
        "say_hello()"
      ],
      "metadata": {
        "id": "djvBOkVjNlsg"
      },
      "execution_count": null,
      "outputs": []
    },
    {
      "cell_type": "code",
      "source": [
        "#Another example for decorator as argument\n",
        "\n",
        "def decorator_with_args(times):\n",
        "    def decorator(func):\n",
        "        def wrapper(*args, **kwargs):\n",
        "            for _ in range(times):\n",
        "                func(*args, **kwargs)\n",
        "        return wrapper\n",
        "    return decorator\n",
        "\n",
        "@decorator_with_args(3)\n",
        "def greet(name):\n",
        "    print(f\"Hello, {name}!\")\n",
        "\n",
        "greet(\"Alice\")\n"
      ],
      "metadata": {
        "id": "oM6b_UrBKsua"
      },
      "execution_count": null,
      "outputs": []
    },
    {
      "cell_type": "markdown",
      "source": [
        "Using *args and **kwargs in Decorators\n",
        "\n",
        "Decorators often need to work with functions that take any number of positional and keyword arguments. This is done using *args and **kwargs."
      ],
      "metadata": {
        "id": "1X1LBSxuK7a_"
      }
    },
    {
      "cell_type": "code",
      "source": [
        "def flexible_decorator(func):\n",
        "    def wrapper(*args, **kwargs):\n",
        "        print(\"Function args:\", args)\n",
        "        print(\"Function kwargs:\", kwargs)\n",
        "        result = func(*args, **kwargs)\n",
        "        print(\"Function result:\", result)\n",
        "        return result\n",
        "    return wrapper\n",
        "\n",
        "@flexible_decorator\n",
        "def add(a, b):\n",
        "    return a + b\n",
        "\n",
        "add(3, 5)\n"
      ],
      "metadata": {
        "id": "1Prm1Sjs9nnc"
      },
      "execution_count": null,
      "outputs": []
    },
    {
      "cell_type": "code",
      "source": [
        "\"\"\" Decorators for Methods\n",
        "Decorating Methods: Understand that when decorators are applied to methods within a class, the self parameter must be handled correctly.\"\"\"\n",
        "\n",
        "def method_decorator(func):\n",
        "    def wrapper(self, *args, **kwargs):\n",
        "        print(f\"Calling method {func.__name__}\")\n",
        "        return func(self, *args, **kwargs)\n",
        "    return wrapper\n",
        "\n",
        "class MyClass:\n",
        "    @method_decorator\n",
        "    def say_hello(self):\n",
        "        print(\"Hello from MyClass!\")\n",
        "\n",
        "obj = MyClass()\n",
        "obj.say_hello()\n"
      ],
      "metadata": {
        "id": "Yset8fqR_I-u"
      },
      "execution_count": null,
      "outputs": []
    },
    {
      "cell_type": "markdown",
      "source": [
        "Built-in Decorators\n",
        "\n",
        "Common Built-in Decorators: You should be familiar with Python’s built-in decorators like @staticmethod, @classmethod, and @property\n",
        "\n",
        "@staticmethod: Defines a method that doesn't require access to the instance (self).\n",
        "@classmethod: Defines a method that receives the class as the first argument (cls).\n",
        "@property: Turns a method into a property that can be accessed like an attribute.\n"
      ],
      "metadata": {
        "id": "GzCt0_4DNt4L"
      }
    },
    {
      "cell_type": "code",
      "source": [
        "class Math:\n",
        "    @staticmethod\n",
        "    def add(a, b):\n",
        "        return a + b\n",
        "\n",
        "print(Math.add(5, 10))\n",
        "\n",
        "\n",
        "\n"
      ],
      "metadata": {
        "id": "uxdz6DSK_JLX"
      },
      "execution_count": null,
      "outputs": []
    },
    {
      "cell_type": "markdown",
      "source": [
        "Chaining Decorators \\\\\n",
        "\n",
        "Multiple Decorators: Know how to apply multiple decorators to a single function and understand the order of execution.\n",
        "You can apply multiple decorators to a single function. They are applied from bottom to top\n",
        "\"\"\"\n",
        "\n"
      ],
      "metadata": {
        "id": "fzzK7AxHNzWB"
      }
    },
    {
      "cell_type": "code",
      "source": [
        "\n",
        "def decorator1(func):\n",
        "    def wrapper():\n",
        "        print(\"Decorator 1\")\n",
        "        func()\n",
        "    return wrapper\n",
        "\n",
        "def decorator2(func):\n",
        "    def wrapper():\n",
        "        print(\"Decorator 2\")\n",
        "        func()\n",
        "    return wrapper\n",
        "\n",
        "@decorator1\n",
        "@decorator2\n",
        "def say_hello():\n",
        "    print(\"Hello!\")\n",
        "\n",
        "say_hello()\n"
      ],
      "metadata": {
        "id": "Xj7dGw609nqH"
      },
      "execution_count": null,
      "outputs": []
    },
    {
      "cell_type": "markdown",
      "source": [
        "Using functools.wraps\n",
        "Preserving Function Metadata: You should understand the importance of functools.wraps to preserve the original function’s metadata (like the function name and docstring) when writing decorators.\n",
        "\n",
        "The functools.wraps decorator is used to preserve the original function's metadata (like its name and docstring) when you create a wrapper function.\n",
        "\n",
        "Without functools.wraps, the name and docstring of the wrapper function would overwrite the original function's metadata, making it difficult to introspect the decorated function.\n",
        "\n"
      ],
      "metadata": {
        "id": "Kxp6ou3zMSSI"
      }
    },
    {
      "cell_type": "code",
      "source": [
        "import functools\n",
        "\n",
        "def simple_decorator(func):\n",
        "    @functools.wraps(func)\n",
        "    def wrapper(*args, **kwargs):\n",
        "        print(\"Before the function call\")\n",
        "        result = func(*args, **kwargs)\n",
        "        print(\"After the function call\")\n",
        "        return result\n",
        "    return wrapper\n",
        "\n",
        "@simple_decorator\n",
        "def say_hello():\n",
        "    \"\"\"This function says hello.\"\"\"\n",
        "    print(\"Hello!\")\n",
        "\n",
        "say_hello()\n",
        "print(say_hello.__name__)  # Outputs: say_hello\n",
        "print(say_hello.__doc__)    # Outputs: This function says hello.\n"
      ],
      "metadata": {
        "id": "Yr1mFmkg9ns3"
      },
      "execution_count": null,
      "outputs": []
    },
    {
      "cell_type": "code",
      "source": [],
      "metadata": {
        "id": "hmgMTwq5_-aT"
      },
      "execution_count": null,
      "outputs": []
    },
    {
      "cell_type": "markdown",
      "source": [
        "### Iterative and Recursive Functions in Python\n",
        "\n",
        "**Iterative** and **recursive** functions are two different ways of solving problems in programming. Let's break down what each of them is, when they are used, and what kinds of problems they are best suited for.\n",
        "\n",
        "### 1. Iterative Functions\n",
        "\n",
        "**Iterative functions** use loops (like `for` or `while` loops) to repeatedly execute a block of code until a certain condition is met. Iteration is generally straightforward and often easier to understand.\n",
        "\n",
        "#### Example: Factorial Using Iteration\n",
        "\n",
        "```python\n",
        "def factorial_iterative(n):\n",
        "    result = 1\n",
        "    for i in range(1, n + 1):\n",
        "        result *= i\n",
        "    return result\n",
        "```\n",
        "\n",
        "- **How it works**: The function uses a `for` loop to multiply all the numbers from `1` to `n`.\n",
        "- **Use Cases**:\n",
        "  - Problems that can be naturally expressed as a series of steps, like summing a list of numbers, finding the maximum in an array, or iterating through elements in a data structure.\n",
        "  - When the problem doesn't inherently require breaking down into smaller sub-problems.\n",
        "\n",
        "### 2. Recursive Functions\n",
        "\n",
        "**Recursive functions** call themselves within their own definition. A recursive function typically has two parts:\n",
        "\n",
        "1. **Base Case**: The condition under which the function stops calling itself (to avoid infinite loops).\n",
        "2. **Recursive Case**: The part where the function calls itself with a modified argument, gradually reducing the problem size.\n",
        "\n",
        "#### Example: Factorial Using Recursion\n",
        "\n",
        "```python\n",
        "def factorial_recursive(n):\n",
        "    if n == 1:\n",
        "        return 1  # Base case\n",
        "    else:\n",
        "        return n * factorial_recursive(n - 1)  # Recursive case\n",
        "```\n",
        "\n",
        "- **How it works**: The function keeps calling itself with `n-1` until it reaches `1`, then starts returning and multiplying the values.\n",
        "- **Use Cases**:\n",
        "  - Problems that can be naturally broken down into smaller, similar sub-problems, such as:\n",
        "    - **Tree traversal** (e.g., searching through hierarchical data like file directories).\n",
        "    - **Divide and conquer algorithms** (e.g., merge sort, quicksort).\n",
        "    - **Mathematical problems** (e.g., Fibonacci sequence, factorial, combinatorial problems).\n",
        "  - When the problem's structure is inherently recursive (e.g., working with recursive data structures like trees).\n",
        "\n",
        "### Iterative vs. Recursive: When to Use Each\n",
        "\n",
        "- **Iterative**:\n",
        "  - Use when the problem is linear or can be solved by looping through elements.\n",
        "  - Generally more efficient in terms of memory because it doesn't require the overhead of multiple function calls.\n",
        "  - Easier to understand for simple problems.\n",
        "\n",
        "- **Recursive**:\n",
        "  - Use when the problem naturally fits into smaller sub-problems (like tree structures, divide-and-conquer problems).\n",
        "  - Can be more intuitive and elegant for certain problems.\n",
        "  - May lead to more complex memory usage due to multiple function calls, which can cause a stack overflow for deep recursion.\n",
        "\n",
        "### Problems Where Iteration is Preferred:\n",
        "\n",
        "1. **Linear Search**: Finding an item in a list by checking each element one by one.\n",
        "2. **Sum of List Elements**: Summing all numbers in a list.\n",
        "3. **Iterating Through Data Structures**: Like arrays, lists, or dictionaries.\n",
        "\n",
        "### Problems Where Recursion is Preferred:\n",
        "\n",
        "1. **Tree Traversal**: Such as searching through a binary tree.\n",
        "2. **Divide and Conquer Algorithms**: Such as merge sort or quicksort.\n",
        "3. **Mathematical Problems**: Like computing the Fibonacci sequence, solving combinatorial problems, or finding the greatest common divisor (GCD).\n",
        "\n",
        "### Example Problem: Fibonacci Sequence\n",
        "\n",
        "**Iterative Approach**:\n",
        "\n",
        "```python\n",
        "def fibonacci_iterative(n):\n",
        "    a, b = 0, 1\n",
        "    for _ in range(n):\n",
        "        a, b = b, a + b\n",
        "    return a\n",
        "```\n",
        "\n",
        "**Recursive Approach**:\n",
        "\n",
        "```python\n",
        "def fibonacci_recursive(n):\n",
        "    if n <= 1:\n",
        "        return n\n",
        "    else:\n",
        "        return fibonacci_recursive(n - 1) + fibonacci_recursive(n - 2)\n",
        "```\n",
        "\n",
        "- **Iterative**: Efficient in terms of both time and space for large `n`.\n",
        "- **Recursive**: Easier to understand and implement but may be inefficient for large `n` unless optimized with techniques like memoization.\n",
        "\n",
        "### Summary\n",
        "\n",
        "- **Iterative functions** are generally used for straightforward problems that can be expressed as loops.\n",
        "- **Recursive functions** are used for problems that can be broken down into smaller sub-problems and are naturally recursive in structure."
      ],
      "metadata": {
        "id": "r6cFRPjVFWkT"
      }
    }
  ]
}